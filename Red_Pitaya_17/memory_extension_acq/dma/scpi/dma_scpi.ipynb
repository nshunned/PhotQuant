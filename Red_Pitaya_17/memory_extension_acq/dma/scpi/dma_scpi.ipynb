{
 "cells": [
  {
   "cell_type": "code",
   "execution_count": 1,
   "metadata": {
    "metadata": {}
   },
   "outputs": [],
   "source": [
    "from math import *\n",
    "from pylab import *\n",
    "\n",
    "import matplotlib.pyplot as plt\n",
    "import numpy as np\n",
    "import time\n",
    "\n",
    "# import redpitaya_scpi as scpi"
   ]
  },
  {
   "cell_type": "markdown",
   "metadata": {},
   "source": [
    "### 1. Calculations"
   ]
  },
  {
   "cell_type": "code",
   "execution_count": 2,
   "metadata": {
    "metadata": {}
   },
   "outputs": [],
   "source": [
    "BITS_PER_SAMPLE = 32        # bits\n",
    "SAMPLE_RATE     = 125e6     # Hz"
   ]
  },
  {
   "cell_type": "code",
   "execution_count": 3,
   "metadata": {
    "metadata": {}
   },
   "outputs": [
    {
     "name": "stdout",
     "output_type": "stream",
     "text": [
      "Per channel:\n",
      "Max memory allocated  =  2097152 = 16^5.25 bytes\n",
      "Max number of samples =   524288 =  2^19.0\n"
     ]
    }
   ],
   "source": [
    "maxMemBytes = 16**5 * 2\n",
    "maxNumMemSamples = maxMemBytes * 8 / BITS_PER_SAMPLE\n",
    "\n",
    "print('Per channel:')\n",
    "print('Max memory allocated  = {:>8} = 16^{:<2} bytes'.format(int(maxMemBytes), log2(maxMemBytes)/log2(16)))\n",
    "print('Max number of samples = {:>8} =  2^{:<2}'.format(int(maxNumMemSamples), log2(maxNumMemSamples)))"
   ]
  },
  {
   "cell_type": "code",
   "execution_count": 4,
   "metadata": {
    "metadata": {}
   },
   "outputs": [
    {
     "name": "stdout",
     "output_type": "stream",
     "text": [
      "Singal period   = 4194.30400 μs\n",
      "Signal frequncy =  238.41858 Hz\n"
     ]
    }
   ],
   "source": [
    "signalPeriod = maxNumMemSamples / SAMPLE_RATE\n",
    "signalFrequency = 1 / signalPeriod\n",
    "\n",
    "print('Singal period   = {:>10.5f} μs'.format(signalPeriod * 1e6))\n",
    "print('Signal frequncy = {:>10.5f} Hz'.format(signalFrequency))"
   ]
  },
  {
   "cell_type": "markdown",
   "metadata": {},
   "source": [
    "### 2. Deep Memory Acquisition via SCPI Server"
   ]
  },
  {
   "cell_type": "code",
   "execution_count": 5,
   "metadata": {
    "metadata": {}
   },
   "outputs": [],
   "source": [
    "# ## CONNECTION\n",
    "# IP = '192.168.234.234'      # local IP of Red Pitaya\n",
    "# rp_s = scpi.scpi(IP)        # open socket connection with Red Pitaya\n",
    "\n",
    "# ## RESET ACQUISITION\n",
    "# rp_s.tx_txt('ACQ:RST')"
   ]
  },
  {
   "cell_type": "code",
   "execution_count": 6,
   "metadata": {
    "metadata": {}
   },
   "outputs": [],
   "source": [
    "# ## CONFIGURATION\n",
    "\n",
    "# ## number of samples to write/read\n",
    "# DATA_SIZE = maxNumMemSamples\n",
    "# READ_DATA_SIZE = maxNumMemSamples\n",
    "\n",
    "# ## signal units\n",
    "# units = 'RAW'\n",
    "# # units = 'VOLTS'\n",
    "\n",
    "# ## decimation\n",
    "# dec = 1\n",
    "\n",
    "# ## trigger\n",
    "# trig_lvl = 0\n",
    "# # trig_src = 'CH1_PE'\n",
    "# trig_src = 'CH2_PE'"
   ]
  },
  {
   "cell_type": "code",
   "execution_count": 7,
   "metadata": {
    "metadata": {}
   },
   "outputs": [],
   "source": [
    "# # get memory region\n",
    "# size = int(rp_s.txrx_txt('ACQ:AXI:SIZE?'))\n",
    "# start_address_a = int(rp_s.txrx_txt('ACQ:AXI:START?'))\n",
    "# start_address_b = round(start_address_a + size/2)\n",
    "\n",
    "# print('Net size of memory region  = 0x{:07X} bytes'.format(size))\n",
    "# print('Start address Channel A    = 0x{:07X}'.format(start_address_a))\n",
    "# print('Start address Channel B    = 0x{:07X}'.format(start_address_b))"
   ]
  },
  {
   "cell_type": "code",
   "execution_count": 8,
   "metadata": {
    "metadata": {}
   },
   "outputs": [],
   "source": [
    "# # set decimatin\n",
    "# rp_s.tx_txt(f'ACQ:AXI:DEC {dec}')\n",
    "\n",
    "# # set units\n",
    "# rp_s.tx_txt(f'ACQ:AXI:DATA:UNITS {units}')\n",
    "\n",
    "# # set trigger delay for both channels\n",
    "# rp_s.tx_txt(f'ACQ:AXI:SOUR1:Trig:Dly {DATA_SIZE}')\n",
    "# rp_s.tx_txt(f'ACQ:AXI:SOUR2:Trig:Dly {DATA_SIZE}')\n",
    "\n",
    "# # set DMA buffer address and size in bytes\n",
    "# rp_s.tx_txt(f'ACQ:AXI:SOUR1:SET:Buffer {start_address_a},{size/2}')\n",
    "# rp_s.tx_txt(f'ACQ:AXI:SOUR2:SET:Buffer {start_address_b},{size/2}')\n",
    "\n",
    "# # enable DMA\n",
    "# rp_s.tx_txt('ACQ:AXI:SOUR1:ENable ON')\n",
    "# rp_s.tx_txt('ACQ:AXI:SOUR2:ENable ON')\n",
    "# print('Channel A and Channel B are enabled')\n",
    "\n",
    "# # set acquisition trigger\n",
    "# rp_s.tx_txt(f'ACQ:TRig:LEV {trig_lvl}')"
   ]
  },
  {
   "cell_type": "code",
   "execution_count": 9,
   "metadata": {
    "metadata": {}
   },
   "outputs": [],
   "source": [
    "# ## ACQUISITION\n",
    "\n",
    "# rp_s.tx_txt('ACQ:START')\n",
    "# print('Acquisition started')\n",
    "\n",
    "# # set trigger source\n",
    "# rp_s.tx_txt(f'ACQ:TRig {trig_src}')\n",
    "\n",
    "# # wait for trigger\n",
    "# while 1:\n",
    "#     rp_s.tx_txt('ACQ:TRig:STAT?')\n",
    "#     if rp_s.rx_txt() == 'TD':       # 'TD' or 'WAIT'\n",
    "#         print('Triggered')\n",
    "#         time.sleep(1)\n",
    "#         break\n",
    "\n",
    "# # wait until adc buffer is filled\n",
    "# while 1:\n",
    "#     rp_s.tx_txt('ACQ:AXI:SOUR1:TRIG:FILL?')\n",
    "#     is_full_1 = rp_s.rx_txt()\n",
    "\n",
    "#     rp_s.tx_txt('ACQ:AXI:SOUR2:TRIG:FILL?')\n",
    "#     is_full_2 = rp_s.rx_txt()\n",
    "\n",
    "#     if is_full_1 == '1' or is_full_2 == '1':\n",
    "#         if is_full_1 == '1':\n",
    "#             print('DMA buffer 1 full')\n",
    "#         if is_full_2 == '1':\n",
    "#             print('DMA buffer 2 full')\n",
    "#         break\n",
    "\n",
    "# # stop acquisition\n",
    "# rp_s.tx_txt('ACQ:STOP')\n",
    "# print('Acquisition stopped')"
   ]
  },
  {
   "cell_type": "code",
   "execution_count": 10,
   "metadata": {
    "metadata": {}
   },
   "outputs": [],
   "source": [
    "# ## GET WRITE POINTERS\n",
    "\n",
    "# posChA = int(rp_s.txrx_txt('ACQ:AXI:SOUR1:Trig:Pos?'))\n",
    "# posChB = int(rp_s.txrx_txt('ACQ:AXI:SOUR2:Trig:Pos?'))\n",
    "\n",
    "# print('Write pointers (at trigger locations):')\n",
    "# print('Channel A = 0x{:07X}'.format(posChA))\n",
    "# print('Channel B = 0x{:07X}'.format(posChB))"
   ]
  },
  {
   "cell_type": "code",
   "execution_count": 11,
   "metadata": {
    "metadata": {}
   },
   "outputs": [],
   "source": [
    "# ## READ & PROCESS DATA\n",
    "\n",
    "# rp_s.tx_txt(f'ACQ:AXI:SOUR1:DATA:Start:N? {posChA},{READ_DATA_SIZE}')\n",
    "# signal_str_a = rp_s.rx_txt()\n",
    "\n",
    "# rp_s.tx_txt(f'ACQ:AXI:SOUR2:DATA:Start:N? {posChB},{READ_DATA_SIZE}')\n",
    "# signal_str_b = rp_s.rx_txt()\n",
    "\n",
    "# signal_num_a = signal_str_a.strip('{}\\n\\r').replace('  ', '').split(',')\n",
    "# signal_num_b = signal_str_b.strip('{}\\n\\r').replace('  ', '').split(',')\n",
    "\n",
    "# units_data_type = int if units == 'RAW' else float\n",
    "\n",
    "# signal_num_a = list(map(units_data_type, signal_num_a))\n",
    "# signal_num_b = list(map(units_data_type, signal_num_b))\n",
    "\n",
    "# # convert from lists to numpy arrays\n",
    "# signal_num_a = np.array(signal_num_a)\n",
    "# signal_num_b = np.array(signal_num_b)\n",
    "\n",
    "# print('Data read and processed')"
   ]
  },
  {
   "cell_type": "code",
   "execution_count": 12,
   "metadata": {},
   "outputs": [],
   "source": [
    "# ## SAVE DATA\n",
    "\n",
    "# dataFileName = f'{int(signalFrequency)}Hz_{int(READ_DATA_SIZE)}_{int(SAMPLE_RATE/1e6)}MHz_{trig_src}_{units.lower()}'\n",
    "\n",
    "# np.save(f'{dataFileName}_chA.npy', signal_num_a)\n",
    "# np.save(f'{dataFileName}_chB.npy', signal_num_b)"
   ]
  },
  {
   "cell_type": "code",
   "execution_count": 13,
   "metadata": {
    "metadata": {}
   },
   "outputs": [],
   "source": [
    "# ## RELEASE RESOURCES & SEVER CONNECTION\n",
    "\n",
    "# rp_s.tx_txt('ACQ:AXI:SOUR1:ENable OFF')\n",
    "# rp_s.tx_txt('ACQ:AXI:SOUR2:ENable OFF')\n",
    "# rp_s.close()\n",
    "\n",
    "# print('Resources released')"
   ]
  },
  {
   "cell_type": "markdown",
   "metadata": {},
   "source": [
    "### 3. Data Analysis"
   ]
  },
  {
   "cell_type": "code",
   "execution_count": 14,
   "metadata": {},
   "outputs": [
    {
     "name": "stdout",
     "output_type": "stream",
     "text": [
      "238Hz_524288_125MHz_CH1_PE_volts data loaded into Numpy arrays\n"
     ]
    }
   ],
   "source": [
    "## LOAD .npy DATA FILES\n",
    "\n",
    "nSamples = maxNumMemSamples\n",
    "\n",
    "# units = 'RAW'\n",
    "units = 'VOLTS'\n",
    "\n",
    "# trig_src = 'CH1_PE'\n",
    "trig_src = 'CH2_PE'\n",
    "\n",
    "filename = f'{int(signalFrequency)}Hz_{int(nSamples)}_{int(SAMPLE_RATE/1e6)}MHz_{trig_src}_{units.lower()}'\n",
    "\n",
    "signal_num_a = np.load(f'{filename}_chA.npy')\n",
    "signal_num_b = np.load(f'{filename}_chB.npy')\n",
    "\n",
    "print(f'{filename} data loaded into Numpy arrays')"
   ]
  },
  {
   "cell_type": "code",
   "execution_count": 15,
   "metadata": {
    "metadata": {}
   },
   "outputs": [
    {
     "name": "stdout",
     "output_type": "stream",
     "text": [
      "Sampling time = 4194.304 μs\n",
      "Number of samples saved = 524288\n",
      "Total decimation factor = 1.0\n"
     ]
    }
   ],
   "source": [
    "# data properties\n",
    "nSamples = len(signal_num_a)\n",
    "tSamples = (nSamples / SAMPLE_RATE) * 1e6\n",
    "totDecFactor = maxNumMemSamples / nSamples\n",
    "\n",
    "print('Sampling time = {} μs'.format(tSamples))\n",
    "print('Number of samples saved = {}'.format(nSamples))\n",
    "print('Total decimation factor = {}'.format(totDecFactor))"
   ]
  },
  {
   "cell_type": "code",
   "execution_count": 16,
   "metadata": {
    "metadata": {}
   },
   "outputs": [
    {
     "data": {
      "image/png": "[encoded data removed]",
      "text/plain": [
       "<Figure size 750x500 with 1 Axes>"
      ]
     },
     "metadata": {},
     "output_type": "display_data"
    }
   ],
   "source": [
    "t = np.linspace(0, tSamples, nSamples)\n",
    "\n",
    "plt.figure(figsize=(7.5, 5))\n",
    "\n",
    "plt.plot(t, signal_num_a, 'r-', lw=1, label='Channel A')\n",
    "plt.plot(t, signal_num_b, 'g-', lw=1, label='Channel B')\n",
    "\n",
    "# plt.title('DMA via. SCPI Server', fontsize=15)\n",
    "plt.xlabel(r'Time ($\\mu$s)', fontsize=15)\n",
    "# plt.ylabel(f'Signal Amplitude ({units.lower()})', fontsize=15)\n",
    "plt.ylabel('Voltage (V)', fontsize=15)\n",
    "plt.xticks(fontsize=15)\n",
    "plt.yticks(fontsize=15)\n",
    "\n",
    "legendTitle = 'N = {}'.format(nSamples)\n",
    "plt.legend(title=legendTitle, loc='best', title_fontsize='x-large', prop={'size': 15})\n",
    "\n",
    "plt.show()"
   ]
  }
 ],
 "metadata": {
  "kernelspec": {
   "display_name": "photquant",
   "language": "python",
   "name": "python3"
  },
  "language_info": {
   "codemirror_mode": {
    "name": "ipython",
    "version": 3
   },
   "file_extension": ".py",
   "mimetype": "text/x-python",
   "name": "python",
   "nbconvert_exporter": "python",
   "pygments_lexer": "ipython3",
   "version": "3.10.11"
  }
 },
 "nbformat": 4,
 "nbformat_minor": 2
}
