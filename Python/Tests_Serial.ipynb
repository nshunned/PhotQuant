{
 "cells": [
  {
   "cell_type": "code",
   "execution_count": 1,
   "metadata": {},
   "outputs": [],
   "source": [
    "import serial"
   ]
  },
  {
   "cell_type": "code",
   "execution_count": 4,
   "metadata": {},
   "outputs": [],
   "source": [
    "# Configure UART port\n",
    "UART_PORT = 'COM4'\n",
    "BAUD_RATE = 120000\n",
    "try:\n",
    "    ser = serial.Serial(port=UART_PORT)\n",
    "except:\n",
    "    uart_port_is_open = False\n",
    "    print(UART_PORT + ' is not available')\n",
    "else:\n",
    "    uart_port_is_open = True\n",
    "    ser.baudrate = BAUD_RATE\n",
    "    ser.bytesize = serial.EIGHTBITS\n",
    "    ser.stopbits = serial.STOPBITS_ONE\n",
    "    ser.parity = serial.PARITY_NONE\n",
    "    \n",
    "    ser.xonxoff = 0     # Software control\n",
    "    ser.rtscts = 0      # Hardware (RTS/CTS) flow control\n",
    "    \n",
    "    ser.timeout = 0.5   # Code will hang without setting timeout"
   ]
  },
  {
   "cell_type": "code",
   "execution_count": 16,
   "metadata": {},
   "outputs": [
    {
     "name": "stdout",
     "output_type": "stream",
     "text": [
      "Enter a byte-wide integer for LED (0 to 255) => 0\n",
      "Bytes written:  1\n",
      "Data written:  0\n",
      "Binary representation:  0b00000000\n",
      "Digilent Cmod A7-35T is blinking at you ;)\n"
     ]
    }
   ],
   "source": [
    "num_to_send = int(input('Enter a byte-wide integer for LED (0 to 255) => '))\n",
    "bytes_written = ser.write(num_to_send.to_bytes(1, \"big\"))\n",
    "        \n",
    "print(\"Bytes written: \", bytes_written)\n",
    "print(\"Data written: \", num_to_send)\n",
    "print(\"Binary representation: \", format(num_to_send, '#010b'))\n",
    "print(\"Digilent Cmod A7-35T is blinking at you ;)\")"
   ]
  },
  {
   "cell_type": "code",
   "execution_count": 17,
   "metadata": {},
   "outputs": [
    {
     "name": "stdout",
     "output_type": "stream",
     "text": [
      "Digilent Cmod A7-35T is done blinking at you :)\n",
      "Data read:  0\n",
      "Binary representation:  0b00000000\n"
     ]
    }
   ],
   "source": [
    "byte_read = ser.read()\n",
    "num_read = int.from_bytes(byte_read , 'big')\n",
    "\n",
    "print(\"Digilent Cmod A7-35T is done blinking at you :)\")\n",
    "print(\"Data read: \", num_read)\n",
    "print(\"Binary representation: \", format(num_read, '#010b'))"
   ]
  },
  {
   "cell_type": "code",
   "execution_count": 18,
   "metadata": {},
   "outputs": [
    {
     "name": "stdout",
     "output_type": "stream",
     "text": [
      "Data read:  0\n",
      "Binary representation:  0b00000000\n"
     ]
    }
   ],
   "source": [
    "byte_read = ser.read()\n",
    "num_read = int.from_bytes(byte_read , 'big')\n",
    "print(\"Data read: \", num_read)\n",
    "print(\"Binary representation: \", format(num_read, '#010b'))"
   ]
  },
  {
   "cell_type": "code",
   "execution_count": 19,
   "metadata": {},
   "outputs": [
    {
     "data": {
      "text/plain": [
       "b'\\x00'"
      ]
     },
     "execution_count": 19,
     "metadata": {},
     "output_type": "execute_result"
    }
   ],
   "source": [
    "byte_read"
   ]
  },
  {
   "cell_type": "code",
   "execution_count": 22,
   "metadata": {},
   "outputs": [],
   "source": [
    "ser.close()"
   ]
  },
  {
   "cell_type": "code",
   "execution_count": null,
   "metadata": {},
   "outputs": [],
   "source": []
  }
 ],
 "metadata": {
  "kernelspec": {
   "display_name": "Python 3",
   "language": "python",
   "name": "python3"
  },
  "language_info": {
   "codemirror_mode": {
    "name": "ipython",
    "version": 3
   },
   "file_extension": ".py",
   "mimetype": "text/x-python",
   "name": "python",
   "nbconvert_exporter": "python",
   "pygments_lexer": "ipython3",
   "version": "3.8.5"
  }
 },
 "nbformat": 4,
 "nbformat_minor": 4
}
