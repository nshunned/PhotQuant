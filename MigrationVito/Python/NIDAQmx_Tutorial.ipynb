{
 "cells": [
  {
   "cell_type": "code",
   "execution_count": 1,
   "metadata": {},
   "outputs": [],
   "source": [
    "import nidaqmx, collections"
   ]
  },
  {
   "cell_type": "code",
   "execution_count": 2,
   "metadata": {
    "scrolled": true
   },
   "outputs": [
    {
     "data": {
      "text/plain": [
       "DriverVersion(major_version=18, minor_version=5, update_version=0)"
      ]
     },
     "execution_count": 2,
     "metadata": {},
     "output_type": "execute_result"
    }
   ],
   "source": [
    "system = nidaqmx.system.System.local()\n",
    "system.driver_version"
   ]
  },
  {
   "cell_type": "code",
   "execution_count": 3,
   "metadata": {},
   "outputs": [
    {
     "name": "stdout",
     "output_type": "stream",
     "text": [
      "Device(name=PXI1Slot5)\n",
      "Device(name=PXI1Slot8)\n"
     ]
    }
   ],
   "source": [
    "for device in system.devices:\n",
    "    print(device)"
   ]
  },
  {
   "cell_type": "code",
   "execution_count": 4,
   "metadata": {},
   "outputs": [
    {
     "data": {
      "text/plain": [
       "True"
      ]
     },
     "execution_count": 4,
     "metadata": {},
     "output_type": "execute_result"
    }
   ],
   "source": [
    "isinstance(system.devices, collections.abc.Sequence)"
   ]
  },
  {
   "cell_type": "code",
   "execution_count": 5,
   "metadata": {},
   "outputs": [
    {
     "data": {
      "text/plain": [
       "True"
      ]
     },
     "execution_count": 5,
     "metadata": {},
     "output_type": "execute_result"
    }
   ],
   "source": [
    "device1 = system.devices['PXI1Slot5']\n",
    "device1 == nidaqmx.system.Device('PXI1Slot5')"
   ]
  },
  {
   "cell_type": "code",
   "execution_count": 6,
   "metadata": {},
   "outputs": [
    {
     "data": {
      "text/plain": [
       "Device(name=PXI1Slot5)"
      ]
     },
     "execution_count": 6,
     "metadata": {},
     "output_type": "execute_result"
    }
   ],
   "source": [
    "nidaqmx.system.Device('PXI1Slot5')"
   ]
  },
  {
   "cell_type": "code",
   "execution_count": 7,
   "metadata": {},
   "outputs": [
    {
     "data": {
      "text/plain": [
       "Device(name=PXI1Slot5)"
      ]
     },
     "execution_count": 7,
     "metadata": {},
     "output_type": "execute_result"
    }
   ],
   "source": [
    "nidaqmx.system.device.Device('PXI1Slot5')"
   ]
  },
  {
   "cell_type": "code",
   "execution_count": 8,
   "metadata": {},
   "outputs": [
    {
     "name": "stdout",
     "output_type": "stream",
     "text": [
      "PXI1Slot5/ao0\n",
      "PXI1Slot5/ao1\n",
      "PXI1Slot5/ao2\n",
      "PXI1Slot5/ao3\n",
      "PXI1Slot5/ao4\n",
      "PXI1Slot5/ao5\n",
      "PXI1Slot5/ao6\n",
      "PXI1Slot5/ao7\n"
     ]
    }
   ],
   "source": [
    "ao_phys_chans = device1.ao_physical_chans\n",
    "for ao_chan in ao_phys_chans:\n",
    "    print(ao_chan.name)"
   ]
  },
  {
   "cell_type": "code",
   "execution_count": 9,
   "metadata": {},
   "outputs": [
    {
     "data": {
      "text/plain": [
       "PhysicalChannel(name=PXI1Slot5/ao1)"
      ]
     },
     "execution_count": 9,
     "metadata": {},
     "output_type": "execute_result"
    }
   ],
   "source": [
    "ao_phys_chans[1]"
   ]
  },
  {
   "cell_type": "code",
   "execution_count": 10,
   "metadata": {},
   "outputs": [
    {
     "data": {
      "text/plain": [
       "PhysicalChannel(name=PXI1Slot5/ao0)"
      ]
     },
     "execution_count": 10,
     "metadata": {},
     "output_type": "execute_result"
    }
   ],
   "source": [
    "nidaqmx.system.physical_channel.PhysicalChannel('PXI1Slot5/ao0')"
   ]
  },
  {
   "cell_type": "code",
   "execution_count": 11,
   "metadata": {},
   "outputs": [
    {
     "data": {
      "text/plain": [
       "PhysicalChannel(name=PXI1Slot5/ao0)"
      ]
     },
     "execution_count": 11,
     "metadata": {},
     "output_type": "execute_result"
    }
   ],
   "source": [
    "nidaqmx.system.PhysicalChannel('PXI1Slot5/ao0')"
   ]
  },
  {
   "cell_type": "code",
   "execution_count": 13,
   "metadata": {},
   "outputs": [
    {
     "name": "stdout",
     "output_type": "stream",
     "text": [
      "1 Channel N Samples Write: \n",
      "4\n"
     ]
    }
   ],
   "source": [
    "with nidaqmx.Task() as task:\n",
    "    task.ao_channels.add_ao_voltage_chan('PXI1Slot5/ao0')\n",
    "    \n",
    "    task.start()\n",
    "    \n",
    "    print('1 Channel N Samples Write: ')\n",
    "    print(task.write([1.1, 2.2, 3.3, 4.4]))\n",
    "    \n",
    "    task.stop()"
   ]
  },
  {
   "cell_type": "code",
   "execution_count": 14,
   "metadata": {},
   "outputs": [
    {
     "name": "stdout",
     "output_type": "stream",
     "text": [
      "%SystemRoot%\\system32\n",
      "%SystemRoot%\n",
      "%SystemRoot%\\System32\\Wbem\n",
      "%SYSTEMROOT%\\System32\\WindowsPowerShell\u000b1.0\\\n",
      "c:\\Program Files\\ATI Technologies\\ATI.ACE\\Core-Static\n",
      "C:\\Program Files\\Intel\\DMIX\n",
      "c:\\Program Files\\IVI Foundation\\VISA\\WinNT\\Bin\\\n",
      "C:\\Program Files\\Common Files\\Acronis\\SnapAPI\\\n",
      "C:\\Program Files\\IVI Foundation\\VISA\\WinNT\\Bin\n",
      "C:\\Program Files\\IVI Foundation\\IVin\n",
      "C:\\Program Files\\PuTTY\\\n",
      "C:\\Program Files\\MySQL\\MySQL Utilities 1.6\\\n",
      "C:\\Program Files\\Point Grey Research\\FlyCapturein\n",
      "C:\\Program Files\\FLIR Systems\\Spinnakein\u000bs2015\n",
      "C:\\Program Files\\FLIR Systems\\Spinnakein64\u000bs2015\n",
      "C:\\Program Files\\Git\\cmd\n",
      "C:\\Program Files\\TortoiseGiin\n",
      "C:\\Program Files\\Microsoft VS Codin\n"
     ]
    }
   ],
   "source": [
    "s = '%SystemRoot%\\system32;%SystemRoot%;%SystemRoot%\\System32\\Wbem;%SYSTEMROOT%\\System32\\WindowsPowerShell\\v1.0\\;c:\\Program Files\\ATI Technologies\\ATI.ACE\\Core-Static;C:\\Program Files\\Intel\\DMIX;c:\\Program Files\\IVI Foundation\\VISA\\WinNT\\Bin\\;C:\\Program Files\\Common Files\\Acronis\\SnapAPI\\;C:\\Program Files\\IVI Foundation\\VISA\\WinNT\\Bin;C:\\Program Files\\IVI Foundation\\IVI\\bin;C:\\Program Files\\PuTTY\\;C:\\Program Files\\MySQL\\MySQL Utilities 1.6\\;C:\\Program Files\\Point Grey Research\\FlyCapture2\\bin;C:\\Program Files\\FLIR Systems\\Spinnaker\\bin\\vs2015;C:\\Program Files\\FLIR Systems\\Spinnaker\\bin64\\vs2015;C:\\Program Files\\Git\\cmd;C:\\Program Files\\TortoiseGit\\bin;C:\\Program Files\\Microsoft VS Code\\bin'\n",
    "for p in s.split(';'): print(p)"
   ]
  },
  {
   "cell_type": "code",
   "execution_count": 19,
   "metadata": {},
   "outputs": [
    {
     "name": "stdout",
     "output_type": "stream",
     "text": [
      "/c/ProgramData/Anaconda3\n",
      "/c/ProgramData/Anaconda3/Library/mingw-w64/bin\n",
      "/c/ProgramData/Anaconda3/Library/usr/bin\n",
      "/c/ProgramData/Anaconda3/Library/bin\n",
      "/c/ProgramData/Anaconda3/Scripts\n",
      "/c/ProgramData/Anaconda3/bin\n",
      "C\n",
      "/ProgramData/Anaconda3\n",
      "C\n",
      "/ProgramData/Anaconda3/Library/mingw-w64/bin\n",
      "C\n",
      "/ProgramData/Anaconda3/Library/usr/bin\n",
      "C\n",
      "/ProgramData/Anaconda3/Library/bin\n",
      "C\n",
      "/ProgramData/Anaconda3/Scripts\n",
      "C\n",
      "/ProgramData/Anaconda3/bin\n",
      "C\n",
      "/ProgramData/Anaconda3/Scripts/condabin\n",
      "/c/Users/PhotQuant/bin\n",
      "/mingw32/bin\n",
      "/usr/local/bin\n",
      "/usr/bin\n",
      "/usr/bin\n",
      "/mingw32/bin\n",
      "/usr/bin\n",
      "/c/Users/PhotQuant/bin\n",
      "/c/Windows/system32\n",
      "/c/Windows\n",
      "/c/Windows/System32/Wbem\n",
      "/c/Windows/System32/WindowsPowerShell/v1.0\n",
      "/c/Program Files/ATI Technologies/ATI.ACE/Core-Static\n",
      "/c/Program Files/Intel/DMIX\n",
      "/c/Program Files/IVI Foundation/VISA/WinNT/Bin\n",
      "/c/Program Files/Common Files/Acronis/SnapAPI\n",
      "/c/Program Files/IVI Foundation/VISA/WinNT/Bin\n",
      "/c/Program Files/IVI Foundation/IVI/bin\n",
      "/c/Program Files/PuTTY\n",
      "/c/Program Files/MySQL/MySQL Utilities 1.6\n",
      "/c/Program Files/Point Grey Research/FlyCapture2/bin\n",
      "/c/Program Files/FLIR Systems/Spinnaker/bin/vs2015\n",
      "/c/Program Files/FLIR Systems/Spinnaker/bin64/vs2015\n",
      "/cmd\n",
      "/c/Program Files/TortoiseGit/bin\n",
      "/c/Program Files/Microsoft VS Code/bin\n",
      "/usr/bin/vendor_perl\n",
      "/usr/bin/core_perl\n"
     ]
    }
   ],
   "source": [
    "s = '/c/ProgramData/Anaconda3:/c/ProgramData/Anaconda3/Library/mingw-w64/bin:/c/ProgramData/Anaconda3/Library/usr/bin:/c/ProgramData/Anaconda3/Library/bin:/c/ProgramData/Anaconda3/Scripts:/c/ProgramData/Anaconda3/bin:C:/ProgramData/Anaconda3:C:/ProgramData/Anaconda3/Library/mingw-w64/bin:C:/ProgramData/Anaconda3/Library/usr/bin:C:/ProgramData/Anaconda3/Library/bin:C:/ProgramData/Anaconda3/Scripts:C:/ProgramData/Anaconda3/bin:C:/ProgramData/Anaconda3/Scripts/condabin:/c/Users/PhotQuant/bin:/mingw32/bin:/usr/local/bin:/usr/bin:/usr/bin:/mingw32/bin:/usr/bin:/c/Users/PhotQuant/bin:/c/Windows/system32:/c/Windows:/c/Windows/System32/Wbem:/c/Windows/System32/WindowsPowerShell/v1.0:/c/Program Files/ATI Technologies/ATI.ACE/Core-Static:/c/Program Files/Intel/DMIX:/c/Program Files/IVI Foundation/VISA/WinNT/Bin:/c/Program Files/Common Files/Acronis/SnapAPI:/c/Program Files/IVI Foundation/VISA/WinNT/Bin:/c/Program Files/IVI Foundation/IVI/bin:/c/Program Files/PuTTY:/c/Program Files/MySQL/MySQL Utilities 1.6:/c/Program Files/Point Grey Research/FlyCapture2/bin:/c/Program Files/FLIR Systems/Spinnaker/bin/vs2015:/c/Program Files/FLIR Systems/Spinnaker/bin64/vs2015:/cmd:/c/Program Files/TortoiseGit/bin:/c/Program Files/Microsoft VS Code/bin:/usr/bin/vendor_perl:/usr/bin/core_perl'\n",
    "for p in s.split(':'): print(p)"
   ]
  }
 ],
 "metadata": {
  "kernelspec": {
   "display_name": "Python 3.8.5 ('base')",
   "language": "python",
   "name": "python3"
  },
  "language_info": {
   "codemirror_mode": {
    "name": "ipython",
    "version": 3
   },
   "file_extension": ".py",
   "mimetype": "text/x-python",
   "name": "python",
   "nbconvert_exporter": "python",
   "pygments_lexer": "ipython3",
   "version": "3.8.13"
  },
  "vscode": {
   "interpreter": {
    "hash": "ad2bdc8ecc057115af97d19610ffacc2b4e99fae6737bb82f5d7fb13d2f2c186"
   }
  }
 },
 "nbformat": 4,
 "nbformat_minor": 4
}
